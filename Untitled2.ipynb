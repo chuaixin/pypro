{
 "cells": [
  {
   "cell_type": "code",
   "execution_count": 68,
   "id": "28e7f4c7-87aa-4d52-aac0-5f87c8fd1be9",
   "metadata": {},
   "outputs": [],
   "source": [
    "import pandas as pd\n",
    "pd.set_option('display.max_rows', None)\n",
    "pd.set_option('display.max_columns', None)"
   ]
  },
  {
   "cell_type": "code",
   "execution_count": 69,
   "id": "25a323a2-4d38-4443-af73-603b6ed20478",
   "metadata": {},
   "outputs": [],
   "source": [
    "docdir = './static/'"
   ]
  },
  {
   "cell_type": "code",
   "execution_count": 70,
   "id": "0a707e8e-3a80-4913-a0cf-f504c8785eaa",
   "metadata": {},
   "outputs": [],
   "source": [
    "docfile = 'codecommit3.01-3.15.xlsx'"
   ]
  },
  {
   "cell_type": "code",
   "execution_count": 83,
   "id": "fe1647d3-2532-4cb6-a054-282b336649c5",
   "metadata": {},
   "outputs": [],
   "source": [
    "sheetname = '项目'"
   ]
  },
  {
   "cell_type": "code",
   "execution_count": 85,
   "id": "642a8f2d-07d2-4e6a-abdb-db9d0d180d95",
   "metadata": {},
   "outputs": [
    {
     "name": "stdout",
     "output_type": "stream",
     "text": [
      "codecommit3.01-3.15.xlsx\n"
     ]
    }
   ],
   "source": [
    "print(docfile)"
   ]
  },
  {
   "cell_type": "code",
   "execution_count": 86,
   "id": "dfa28322-ea59-470f-a16f-96f5891368eb",
   "metadata": {},
   "outputs": [],
   "source": [
    "sheet = pd.read_excel(docdir+docfile, sheet_name=sheetname)"
   ]
  },
  {
   "cell_type": "code",
   "execution_count": 87,
   "id": "44429eed-5116-4e57-9ba9-9fbd4b632b51",
   "metadata": {},
   "outputs": [
    {
     "data": {
      "text/plain": [
       "\"sorted_sheet = sheet.sort_values(by='事业部')\\nresult = sorted_sheet.head(3)\\nprint(result)\\n\""
      ]
     },
     "execution_count": 87,
     "metadata": {},
     "output_type": "execute_result"
    }
   ],
   "source": [
    "'''sorted_sheet = sheet.sort_values(by='事业部')\n",
    "result = sorted_sheet.head(3)\n",
    "print(result)\n",
    "'''"
   ]
  },
  {
   "cell_type": "code",
   "execution_count": 102,
   "id": "d62479ba-d096-494b-b94d-0e8a3db652bf",
   "metadata": {},
   "outputs": [],
   "source": [
    "result = sheet[(sheet['项目归属事业部'] == '智能运营事业部') & (sheet['项目类型'] == '系统项目')]"
   ]
  },
  {
   "cell_type": "code",
   "execution_count": 116,
   "id": "8058c3cf-b534-429b-a15e-a05860ad843b",
   "metadata": {},
   "outputs": [
    {
     "data": {
      "text/plain": [
       "[6, 5]"
      ]
     },
     "execution_count": 116,
     "metadata": {},
     "output_type": "execute_result"
    }
   ],
   "source": [
    "list(map(lambda x,y: x+y,[1,2],[5,3]))"
   ]
  },
  {
   "cell_type": "code",
   "execution_count": 119,
   "id": "29d40a44-a64d-442a-8b28-b84d69d3d7de",
   "metadata": {},
   "outputs": [
    {
     "data": {
      "text/plain": [
       "'3.9.1 (v3.9.1:1e5d33e9b9, Dec  7 2020, 12:10:52) \\n[Clang 6.0 (clang-600.0.57)]'"
      ]
     },
     "execution_count": 119,
     "metadata": {},
     "output_type": "execute_result"
    }
   ],
   "source": [
    "import sys\n",
    "sys.version"
   ]
  },
  {
   "cell_type": "code",
   "execution_count": null,
   "id": "ad9ea896-fa7e-4bb6-9607-916216c7867d",
   "metadata": {},
   "outputs": [],
   "source": []
  }
 ],
 "metadata": {
  "kernelspec": {
   "display_name": "Python 3 (ipykernel)",
   "language": "python",
   "name": "python3"
  },
  "language_info": {
   "codemirror_mode": {
    "name": "ipython",
    "version": 3
   },
   "file_extension": ".py",
   "mimetype": "text/x-python",
   "name": "python",
   "nbconvert_exporter": "python",
   "pygments_lexer": "ipython3",
   "version": "3.9.1"
  }
 },
 "nbformat": 4,
 "nbformat_minor": 5
}
