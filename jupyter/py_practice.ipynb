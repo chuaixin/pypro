{
 "cells": [
  {
   "cell_type": "code",
   "execution_count": 116,
   "metadata": {},
   "outputs": [],
   "source": [
    "import sys,pymysql\n",
    "sys.path.append('..')\n",
    "from khan_config import *"
   ]
  },
  {
   "cell_type": "code",
   "execution_count": 117,
   "metadata": {},
   "outputs": [],
   "source": [
    "class projectinfo:\n",
    "    def __init__(self,projectID):\n",
    "        self.projectID = projectID #项目ID\n",
    "        #定义基础项目类: \n",
    "        self.conn = pymysql.connect(**conn_khan)\n",
    "        self.cursor = self.conn.cursor()\n",
    "\n",
    "        sql_project = \"select id,name,project_key,category,status,liable_user_name,liable_user_account,code_storage,dn_name from kh_project where id={0}\".format(self.projectID)\n",
    "        self.cursor.execute(sql_project)\n",
    "        result = self.cursor.fetchone()\n",
    "        print(result)\n",
    "        #项目基本信息属性\n",
    "\n",
    "        self.prj_name = result[1] #项目名称\n",
    "        self.prj_ename = result[2] #项目英文名称\n",
    "        self.prj_type = project_type[result[3]] #项目类型\n",
    "        self.prj_status = project_status[result[4]] #项目状态\n",
    "        self.prj_manager_name = result[5] #项目经理姓名\n",
    "        self.prj_manager_ename = result[6] #项目经理英文名\n",
    "        # self.prj_codestore = code_store[result[7]] #代码存管\n",
    "        self.prj_dept = result[8] #项目归属部门\n",
    "\n",
    "        # 关闭光标对象\n",
    "        self.cursor.close()\n",
    "        self.conn.close()\n",
    "    \n",
    "        \n"
   ]
  },
  {
   "cell_type": "code",
   "execution_count": 118,
   "metadata": {},
   "outputs": [
    {
     "name": "stdout",
     "output_type": "stream",
     "text": [
      "(107, '数字化研发效能平台', 'Ultra-Khan', 2, 1, '刘斐', 'liufei4', 1, '运营商BG.技术中台支撑部.产品支撑部')\n"
     ]
    }
   ],
   "source": [
    "checkpr = projectinfo(107)\n",
    "\n"
   ]
  }
 ],
 "metadata": {
  "kernelspec": {
   "display_name": "Python 3",
   "language": "python",
   "name": "python3"
  },
  "language_info": {
   "codemirror_mode": {
    "name": "ipython",
    "version": 3
   },
   "file_extension": ".py",
   "mimetype": "text/x-python",
   "name": "python",
   "nbconvert_exporter": "python",
   "pygments_lexer": "ipython3",
   "version": "3.9.1"
  }
 },
 "nbformat": 4,
 "nbformat_minor": 2
}
